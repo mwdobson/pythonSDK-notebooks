{
 "cells": [
  {
   "cell_type": "markdown",
   "metadata": {},
   "source": [
    "# SDK Connection Test\n",
    "\n",
    "This notebook tests basic SDK functionality before running the full lab.\n",
    "\n",
    "**Note:** You may see an \"unverified HTTPS request\" warning - this can be safely ignored."
   ]
  },
  {
   "cell_type": "markdown",
   "metadata": {},
   "source": [
    "## Step 0: Reinstall SDK Package\n",
    "\n",
    "This ensures you have a clean installation of the SDK."
   ]
  },
  {
   "cell_type": "code",
   "execution_count": null,
   "metadata": {
    "vscode": {
     "languageId": "shellscript"
    }
   },
   "outputs": [],
   "source": []
  },
  {
   "cell_type": "code",
   "execution_count": 1,
   "metadata": {
    "vscode": {
     "languageId": "shellscript"
    }
   },
   "outputs": [
    {
     "name": "stdout",
     "output_type": "stream",
     "text": [
      "\u001b[33mWARNING: Skipping ibm_watsonx_data_integration as it is not installed.\u001b[0m\u001b[33m\n",
      "\u001b[0mCollecting ibm_watsonx_data_integration\n",
      "  Using cached ibm_watsonx_data_integration-1.0.0b0-py3-none-any.whl.metadata (1.5 kB)\n",
      "Collecting inflection~=0.5.1 (from ibm_watsonx_data_integration)\n",
      "  Using cached inflection-0.5.1-py2.py3-none-any.whl.metadata (1.7 kB)\n",
      "Collecting requests>=2.32.3 (from ibm_watsonx_data_integration)\n",
      "  Using cached requests-2.32.5-py3-none-any.whl.metadata (4.9 kB)\n",
      "Collecting pydantic~=2.11.7 (from ibm_watsonx_data_integration)\n",
      "  Downloading pydantic-2.11.10-py3-none-any.whl.metadata (68 kB)\n",
      "Collecting jsondiff>=2.2.1 (from ibm_watsonx_data_integration)\n",
      "  Using cached jsondiff-2.2.1-py3-none-any.whl.metadata (5.2 kB)\n",
      "Collecting jinja2<4.0.0,>=3.1.6 (from ibm_watsonx_data_integration)\n",
      "  Using cached jinja2-3.1.6-py3-none-any.whl.metadata (2.9 kB)\n",
      "Collecting responses>=0.25.7 (from ibm_watsonx_data_integration)\n",
      "  Using cached responses-0.25.8-py3-none-any.whl.metadata (47 kB)\n",
      "Collecting MarkupSafe>=2.0 (from jinja2<4.0.0,>=3.1.6->ibm_watsonx_data_integration)\n",
      "  Using cached markupsafe-3.0.3-cp313-cp313-macosx_11_0_arm64.whl.metadata (2.7 kB)\n",
      "Collecting annotated-types>=0.6.0 (from pydantic~=2.11.7->ibm_watsonx_data_integration)\n",
      "  Using cached annotated_types-0.7.0-py3-none-any.whl.metadata (15 kB)\n",
      "Collecting pydantic-core==2.33.2 (from pydantic~=2.11.7->ibm_watsonx_data_integration)\n",
      "  Using cached pydantic_core-2.33.2-cp313-cp313-macosx_11_0_arm64.whl.metadata (6.8 kB)\n",
      "Collecting typing-extensions>=4.12.2 (from pydantic~=2.11.7->ibm_watsonx_data_integration)\n",
      "  Using cached typing_extensions-4.15.0-py3-none-any.whl.metadata (3.3 kB)\n",
      "Collecting typing-inspection>=0.4.0 (from pydantic~=2.11.7->ibm_watsonx_data_integration)\n",
      "  Using cached typing_inspection-0.4.2-py3-none-any.whl.metadata (2.6 kB)\n",
      "Collecting pyyaml (from jsondiff>=2.2.1->ibm_watsonx_data_integration)\n",
      "  Using cached pyyaml-6.0.3-cp313-cp313-macosx_11_0_arm64.whl.metadata (2.4 kB)\n",
      "Collecting charset_normalizer<4,>=2 (from requests>=2.32.3->ibm_watsonx_data_integration)\n",
      "  Using cached charset_normalizer-3.4.3-cp313-cp313-macosx_10_13_universal2.whl.metadata (36 kB)\n",
      "Collecting idna<4,>=2.5 (from requests>=2.32.3->ibm_watsonx_data_integration)\n",
      "  Using cached idna-3.10-py3-none-any.whl.metadata (10 kB)\n",
      "Collecting urllib3<3,>=1.21.1 (from requests>=2.32.3->ibm_watsonx_data_integration)\n",
      "  Using cached urllib3-2.5.0-py3-none-any.whl.metadata (6.5 kB)\n",
      "Collecting certifi>=2017.4.17 (from requests>=2.32.3->ibm_watsonx_data_integration)\n",
      "  Downloading certifi-2025.10.5-py3-none-any.whl.metadata (2.5 kB)\n",
      "Using cached ibm_watsonx_data_integration-1.0.0b0-py3-none-any.whl (1.7 MB)\n",
      "Using cached inflection-0.5.1-py2.py3-none-any.whl (9.5 kB)\n",
      "Using cached jinja2-3.1.6-py3-none-any.whl (134 kB)\n",
      "Downloading pydantic-2.11.10-py3-none-any.whl (444 kB)\n",
      "Using cached pydantic_core-2.33.2-cp313-cp313-macosx_11_0_arm64.whl (1.8 MB)\n",
      "Using cached annotated_types-0.7.0-py3-none-any.whl (13 kB)\n",
      "Using cached jsondiff-2.2.1-py3-none-any.whl (13 kB)\n",
      "Using cached markupsafe-3.0.3-cp313-cp313-macosx_11_0_arm64.whl (12 kB)\n",
      "Using cached requests-2.32.5-py3-none-any.whl (64 kB)\n",
      "Using cached charset_normalizer-3.4.3-cp313-cp313-macosx_10_13_universal2.whl (205 kB)\n",
      "Using cached idna-3.10-py3-none-any.whl (70 kB)\n",
      "Using cached urllib3-2.5.0-py3-none-any.whl (129 kB)\n",
      "Downloading certifi-2025.10.5-py3-none-any.whl (163 kB)\n",
      "Using cached responses-0.25.8-py3-none-any.whl (34 kB)\n",
      "Using cached typing_extensions-4.15.0-py3-none-any.whl (44 kB)\n",
      "Using cached typing_inspection-0.4.2-py3-none-any.whl (14 kB)\n",
      "Using cached pyyaml-6.0.3-cp313-cp313-macosx_11_0_arm64.whl (173 kB)\n",
      "Installing collected packages: urllib3, typing-extensions, pyyaml, MarkupSafe, inflection, idna, charset_normalizer, certifi, annotated-types, typing-inspection, requests, pydantic-core, jsondiff, jinja2, responses, pydantic, ibm_watsonx_data_integration\n",
      "\u001b[2K   \u001b[38;2;114;156;31m━━━━━━━━━━━━━━━━━━━━━━━━━━━━━━━━━━━━━━━━\u001b[0m \u001b[32m17/17\u001b[0m [ibm_watsonx_data_integration]17\u001b[0m [ibm_watsonx_data_integration]\n",
      "\u001b[1A\u001b[2KSuccessfully installed MarkupSafe-3.0.3 annotated-types-0.7.0 certifi-2025.10.5 charset_normalizer-3.4.3 ibm_watsonx_data_integration-1.0.0b0 idna-3.10 inflection-0.5.1 jinja2-3.1.6 jsondiff-2.2.1 pydantic-2.11.10 pydantic-core-2.33.2 pyyaml-6.0.3 requests-2.32.5 responses-0.25.8 typing-extensions-4.15.0 typing-inspection-0.4.2 urllib3-2.5.0\n"
     ]
    }
   ],
   "source": [
    "\n",
    "!pip uninstall ibm_watsonx_data_integration -y\n",
    "!pip install ibm_watsonx_data_integration --force-reinstall\n"
   ]
  },
  {
   "cell_type": "markdown",
   "metadata": {},
   "source": [
    "## Step 1: Test SDK Import"
   ]
  },
  {
   "cell_type": "code",
   "execution_count": 2,
   "metadata": {
    "vscode": {
     "languageId": "shellscript"
    }
   },
   "outputs": [
    {
     "name": "stdout",
     "output_type": "stream",
     "text": [
      "✓ SDK imported successfully\n"
     ]
    }
   ],
   "source": [
    "# Import required modules\n",
    "try:\n",
    "    from ibm_watsonx_data_integration import *\n",
    "    from ibm_watsonx_data_integration.common.auth import IAMAuthenticator\n",
    "    from ibm_watsonx_data_integration.services.datastage import *\n",
    "    print(\"✓ SDK imported successfully\")\n",
    "except ImportError as e:\n",
    "    print(f\"✗ Import failed: {e}\")"
   ]
  },
  {
   "cell_type": "markdown",
   "metadata": {},
   "source": [
    "## Step 2: Set Credentials\n",
    "\n",
    "Replace with your actual credentials.\n",
    "\n",
    "**TIP**: Create a `credentials.txt` file on your desktop with this format to make copy/paste easier:\n",
    "```\n",
    "API_KEY = \"your-api-key-here\"\n",
    "PROJECT_ID = \"your-project-id-here\"\n",
    "```"
   ]
  },
  {
   "cell_type": "code",
   "execution_count": 3,
   "metadata": {
    "vscode": {
     "languageId": "shellscript"
    }
   },
   "outputs": [
    {
     "name": "stdout",
     "output_type": "stream",
     "text": [
      "Credentials set (not displayed for security)\n"
     ]
    }
   ],
   "source": [
    "API_KEY = \"qSOipvfdwXJjHSWxIgVd7u0d2V2WHsOR9A_V1SntP762\"\n",
    "PROJECT_ID = \"a08157b8-d177-456f-82a3-7084576ff59e\"\n",
    "\n",
    "print(\"Credentials set (not displayed for security)\")"
   ]
  },
  {
   "cell_type": "markdown",
   "metadata": {},
   "source": [
    "## Step 3: Create Authentication"
   ]
  },
  {
   "cell_type": "code",
   "execution_count": 4,
   "metadata": {
    "vscode": {
     "languageId": "shellscript"
    }
   },
   "outputs": [
    {
     "name": "stdout",
     "output_type": "stream",
     "text": [
      "✓ Authenticator created\n"
     ]
    }
   ],
   "source": [
    "try:\n",
    "    auth = IAMAuthenticator(api_key=API_KEY, base_auth_url=\"https://cloud.ibm.com\")\n",
    "    print(\"✓ Authenticator created\")\n",
    "except Exception as e:\n",
    "    print(f\"✗ Authentication failed: {e}\")"
   ]
  },
  {
   "cell_type": "markdown",
   "metadata": {},
   "source": [
    "## Step 4: Connect to Platform"
   ]
  },
  {
   "cell_type": "code",
   "execution_count": 5,
   "metadata": {
    "vscode": {
     "languageId": "shellscript"
    }
   },
   "outputs": [
    {
     "name": "stdout",
     "output_type": "stream",
     "text": [
      "✓ Platform connection initialized\n"
     ]
    }
   ],
   "source": [
    "try:\n",
    "    platform = Platform(auth, base_api_url=\"https://api.ca-tor.dai.cloud.ibm.com\")\n",
    "    print(\"✓ Platform connection initialized\")\n",
    "except Exception as e:\n",
    "    print(f\"✗ Platform connection failed: {e}\")"
   ]
  },
  {
   "cell_type": "markdown",
   "metadata": {},
   "source": [
    "## Step 5: Get Project\n",
    "\n",
    "**WAIT FOR THIS STEP** - Make sure you see the success message before continuing!"
   ]
  },
  {
   "cell_type": "code",
   "execution_count": 6,
   "metadata": {
    "vscode": {
     "languageId": "shellscript"
    }
   },
   "outputs": [
    {
     "name": "stdout",
     "output_type": "stream",
     "text": [
      "✓ Successfully connected to project: Testing\n",
      "  Project ID: a08157b8-d177-456f-82a3-7084576ff59e\n",
      "\n",
      "✓✓✓ CONFIRMATION: You are ready to proceed to the next step!\n"
     ]
    }
   ],
   "source": [
    "try:\n",
    "    project = platform.projects.get(guid=PROJECT_ID)\n",
    "    print(f\"✓ Successfully connected to project: {project.name}\")\n",
    "    print(f\"  Project ID: {PROJECT_ID}\")\n",
    "    print(\"\\n✓✓✓ CONFIRMATION: You are ready to proceed to the next step!\")\n",
    "except Exception as e:\n",
    "    print(f\"✗ Failed to get project: {e}\")"
   ]
  },
  {
   "cell_type": "markdown",
   "metadata": {},
   "source": [
    "## Step 6: Create a Simple Flow (Row Generator → Peek)\n",
    "\n",
    "Now let's create a basic DataStage flow to verify everything works end-to-end."
   ]
  },
  {
   "cell_type": "code",
   "execution_count": 7,
   "metadata": {
    "vscode": {
     "languageId": "shellscript"
    }
   },
   "outputs": [
    {
     "name": "stdout",
     "output_type": "stream",
     "text": [
      "✓ Flow created\n",
      "✓ Added Row Generator stage\n",
      "✓ Added Peek stage\n",
      "✓ Connected stages\n",
      "✓ Schema defined\n",
      "✓ Flow saved to watsonx.data Integration\n"
     ]
    },
    {
     "name": "stderr",
     "output_type": "stream",
     "text": [
      "/Users/michaeldobson/Documents/Product Management/SDK_notebooks/.venv/lib/python3.13/site-packages/urllib3/connectionpool.py:1097: InsecureRequestWarning: Unverified HTTPS request is being made to host 'api.ca-tor.dai.cloud.ibm.com'. Adding certificate verification is strongly advised. See: https://urllib3.readthedocs.io/en/latest/advanced-usage.html#tls-warnings\n",
      "  warnings.warn(\n"
     ]
    },
    {
     "name": "stdout",
     "output_type": "stream",
     "text": [
      "✓ Job created\n",
      "✓ Job started\n",
      "\n",
      "============================================================\n",
      "✓✓✓ SUCCESS! Your flow and job have been created!\n",
      "============================================================\n",
      "\n",
      "Go to the watsonx.data Integration UI to see your work:\n",
      "https://ca-tor.dai.cloud.ibm.com/df/home?context=df\n",
      "\n",
      "Navigation: Sandbox project → Assets tab\n",
      "\n",
      "You should see:\n",
      "  • Flow: RowGenPeek_SDK_Test\n",
      "  • Job: RowGenPeek_job (currently running)\n"
     ]
    }
   ],
   "source": [
    "# Create flow\n",
    "flow = project.create_flow(name=\"RowGenPeek_SDK_Test\", environment=None, flow_type=\"datastage\")\n",
    "print(\"✓ Flow created\")\n",
    "\n",
    "# Add Row Generator stage\n",
    "row_generator = flow.add_stage(\"Row Generator\", \"Row_Generator\")\n",
    "row_generator.configuration.runtime_column_propagation = False\n",
    "print(\"✓ Added Row Generator stage\")\n",
    "\n",
    "# Add Peek stage\n",
    "peek = flow.add_stage(\"Peek\", \"Peek\")\n",
    "peek.configuration.runtime_column_propagation = False\n",
    "print(\"✓ Added Peek stage\")\n",
    "\n",
    "# Connect stages (create the link between them)\n",
    "link_1 = row_generator.connect_output_to(peek)\n",
    "link_1.name = \"Link_1\"\n",
    "print(\"✓ Connected stages\")\n",
    "\n",
    "# Define schema (what data flows through the link)\n",
    "row_generator_schema = link_1.create_schema()\n",
    "row_generator_schema.add_field(\"VARCHAR\", \"COLUMN_1\").length(100)\n",
    "print(\"✓ Schema defined\")\n",
    "\n",
    "# Update flow in watsonx.data Integration\n",
    "project.update_flow(flow)\n",
    "print(\"✓ Flow saved to watsonx.data Integration\")\n",
    "\n",
    "# Create a job to run the flow\n",
    "row_gen_peek_job = project.create_job(name=\"RowGenPeek_job\", flow=flow)\n",
    "print(\"✓ Job created\")\n",
    "\n",
    "# Start the job\n",
    "row_gen_peek_job_run = row_gen_peek_job.start(name=\"RowGenPeek_job_run\", description=\"\")\n",
    "print(\"✓ Job started\")\n",
    "\n",
    "print(\"\\n\" + \"=\"*60)\n",
    "print(\"✓✓✓ SUCCESS! Your flow and job have been created!\")\n",
    "print(\"=\"*60)\n",
    "print(\"\\nGo to the watsonx.data Integration UI to see your work:\")\n",
    "print(\"https://ca-tor.dai.cloud.ibm.com/df/home?context=df\")\n",
    "print(\"\\nNavigation: Sandbox project → Assets tab\")\n",
    "print(\"\\nYou should see:\")\n",
    "print(\"  • Flow: RowGenPeek_SDK_Test\")\n",
    "print(\"  • Job: RowGenPeek_job (currently running)\")"
   ]
  },
  {
   "cell_type": "markdown",
   "metadata": {},
   "source": [
    "## Summary\n",
    "\n",
    "If all cells above show ✓ marks, your environment is ready!\n",
    "\n",
    "**What you just did:**\n",
    "- ✓ Imported the SDK\n",
    "- ✓ Authenticated with IBM Cloud\n",
    "- ✓ Connected to your project\n",
    "- ✓ Created a simple DataStage flow programmatically\n",
    "\n",
    "**Next:** Check the UI to see your flow, then proceed to the main lab notebooks where you'll create more complex data integration pipelines."
   ]
  }
 ],
 "metadata": {
  "kernelspec": {
   "display_name": ".venv",
   "language": "python",
   "name": "python3"
  },
  "language_info": {
   "codemirror_mode": {
    "name": "ipython",
    "version": 3
   },
   "file_extension": ".py",
   "mimetype": "text/x-python",
   "name": "python",
   "nbconvert_exporter": "python",
   "pygments_lexer": "ipython3",
   "version": "3.13.7"
  }
 },
 "nbformat": 4,
 "nbformat_minor": 4
}
