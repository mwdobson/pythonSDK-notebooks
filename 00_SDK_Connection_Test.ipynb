{
 "cells": [
  {
   "cell_type": "markdown",
   "metadata": {},
   "source": [
    "# SDK Connection Test\n",
    "\n",
    "This notebook tests basic SDK functionality before running the full lab.\n",
    "\n",
    "**Note:** You may see an \"unverified HTTPS request\" warning - this can be safely ignored."
   ]
  },
  {
   "cell_type": "markdown",
   "metadata": {},
   "source": [
    "## Step 0: Reinstall SDK Package\n",
    "\n",
    "This ensures you have a clean installation of the SDK."
   ]
  },
  {
   "cell_type": "code",
   "execution_count": null,
   "metadata": {},
   "outputs": [],
   "source": [
    "!pip uninstall ibm_watsonx_data_integration -y\n",
    "!pip install ibm_watsonx_data_integration --force-reinstall"
   ]
  },
  {
   "cell_type": "markdown",
   "metadata": {},
   "source": [
    "## Step 1: Test SDK Import"
   ]
  },
  {
   "cell_type": "code",
   "execution_count": null,
   "metadata": {},
   "outputs": [],
   "source": [
    "# Import required modules\n",
    "try:\n",
    "    from ibm_watsonx_data_integration import *\n",
    "    from ibm_watsonx_data_integration.common.auth import IAMAuthenticator\n",
    "    from ibm_watsonx_data_integration.services.datastage import *\n",
    "    print(\"✓ SDK imported successfully\")\n",
    "except ImportError as e:\n",
    "    print(f\"✗ Import failed: {e}\")"
   ]
  },
  {
   "cell_type": "markdown",
   "metadata": {},
   "source": [
    "## Step 2: Set Credentials\n",
    "\n",
    "Replace with your actual credentials.\n",
    "\n",
    "**TIP**: Create a `credentials.txt` file on your desktop with this format to make copy/paste easier:\n",
    "```\n",
    "API_KEY = \"your-api-key-here\"\n",
    "PROJECT_ID = \"your-project-id-here\"\n",
    "```"
   ]
  },
  {
   "cell_type": "code",
   "execution_count": null,
   "metadata": {},
   "outputs": [],
   "source": [
    "API_KEY = \"YOUR_IBM_CLOUD_API_KEY\"\n",
    "PROJECT_ID = \"YOUR_PROJECT_ID\"\n",
    "\n",
    "print(\"Credentials set (not displayed for security)\")"
   ]
  },
  {
   "cell_type": "markdown",
   "metadata": {},
   "source": [
    "## Step 3: Create Authentication"
   ]
  },
  {
   "cell_type": "code",
   "execution_count": null,
   "metadata": {},
   "outputs": [],
   "source": [
    "try:\n",
    "    auth = IAMAuthenticator(api_key=API_KEY, base_auth_url=\"https://cloud.ibm.com\")\n",
    "    print(\"✓ Authenticator created\")\n",
    "except Exception as e:\n",
    "    print(f\"✗ Authentication failed: {e}\")"
   ]
  },
  {
   "cell_type": "markdown",
   "metadata": {},
   "source": [
    "## Step 4: Connect to Platform"
   ]
  },
  {
   "cell_type": "code",
   "execution_count": null,
   "metadata": {},
   "outputs": [],
   "source": [
    "try:\n",
    "    platform = Platform(auth, base_api_url=\"https://api.ca-tor.dai.cloud.ibm.com\")\n",
    "    print(\"✓ Platform connection initialized\")\n",
    "except Exception as e:\n",
    "    print(f\"✗ Platform connection failed: {e}\")"
   ]
  },
  {
   "cell_type": "markdown",
   "metadata": {},
   "source": [
    "## Step 5: Get Project\n",
    "\n",
    "**WAIT FOR THIS STEP** - Make sure you see the success message before continuing!"
   ]
  },
  {
   "cell_type": "code",
   "execution_count": null,
   "metadata": {},
   "outputs": [],
   "source": [
    "try:\n",
    "    project = platform.projects.get(guid=PROJECT_ID)\n",
    "    print(f\"✓ Successfully connected to project: {project.name}\")\n",
    "    print(f\"  Project ID: {PROJECT_ID}\")\n",
    "    print(\"\\n✓✓✓ CONFIRMATION: You are ready to proceed to the next step!\")\n",
    "except Exception as e:\n",
    "    print(f\"✗ Failed to get project: {e}\")"
   ]
  },
  {
   "cell_type": "markdown",
   "metadata": {},
   "source": [
    "## Step 6: Create a Simple Flow (Row Generator → Peek)\n",
    "\n",
    "Now let's create a basic DataStage flow to verify everything works end-to-end."
   ]
  },
  {
   "cell_type": "code",
   "execution_count": null,
   "metadata": {},
   "outputs": [],
   "source": [
    "# Create flow\n",
    "flow = project.create_flow(name=\"RowGenPeek_SDK_Test\", environment=None, flow_type=\"datastage\")\n",
    "print(\"✓ Flow created\")\n",
    "\n",
    "# Add Row Generator stage\n",
    "row_generator = flow.add_stage(\"Row Generator\", \"Row_Generator\")\n",
    "row_generator.configuration.runtime_column_propagation = False\n",
    "print(\"✓ Added Row Generator stage\")\n",
    "\n",
    "# Add Peek stage\n",
    "peek = flow.add_stage(\"Peek\", \"Peek\")\n",
    "peek.configuration.runtime_column_propagation = False\n",
    "print(\"✓ Added Peek stage\")\n",
    "\n",
    "# Connect stages (create the link between them)\n",
    "link_1 = row_generator.connect_output_to(peek)\n",
    "link_1.name = \"Link_1\"\n",
    "print(\"✓ Connected stages\")\n",
    "\n",
    "# Define schema (what data flows through the link)\n",
    "row_generator_schema = link_1.create_schema()\n",
    "row_generator_schema.add_field(\"VARCHAR\", \"COLUMN_1\").length(100)\n",
    "print(\"✓ Schema defined\")\n",
    "\n",
    "# Update flow in watsonx.data Integration\n",
    "project.update_flow(flow)\n",
    "print(\"✓ Flow saved to watsonx.data Integration\")\n",
    "\n",
    "# Create a job to run the flow\n",
    "row_gen_peek_job = project.create_job(name=\"RowGenPeek_job\", flow=flow)\n",
    "print(\"✓ Job created\")\n",
    "\n",
    "# Start the job\n",
    "row_gen_peek_job_run = row_gen_peek_job.start(name=\"RowGenPeek_job_run\", description=\"\")\n",
    "print(\"✓ Job started\")\n",
    "\n",
    "print(\"\\n\" + \"=\"*60)\n",
    "print(\"✓✓✓ SUCCESS! Your flow and job have been created!\")\n",
    "print(\"=\"*60)\n",
    "print(\"\\nGo to the watsonx.data Integration UI to see your work:\")\n",
    "print(\"https://ca-tor.dai.cloud.ibm.com/df/home?context=df\")\n",
    "print(\"\\nNavigation: Sandbox project → Assets tab\")\n",
    "print(\"\\nYou should see:\")\n",
    "print(\"  • Flow: RowGenPeek_SDK_Test\")\n",
    "print(\"  • Job: RowGenPeek_job (currently running)\")"
   ]
  },
  {
   "cell_type": "markdown",
   "metadata": {},
   "source": [
    "## Summary\n",
    "\n",
    "If all cells above show ✓ marks, your environment is ready!\n",
    "\n",
    "**What you just did:**\n",
    "- ✓ Imported the SDK\n",
    "- ✓ Authenticated with IBM Cloud\n",
    "- ✓ Connected to your project\n",
    "- ✓ Created a simple DataStage flow programmatically\n",
    "\n",
    "**Next:** Check the UI to see your flow, then proceed to the main lab notebooks where you'll create more complex data integration pipelines."
   ]
  }
 ],
 "metadata": {
  "kernelspec": {
   "display_name": "Lab Environment",
   "language": "python",
   "name": "lab-env-brew"
  },
  "language_info": {
   "codemirror_mode": {
    "name": "ipython",
    "version": 3
   },
   "file_extension": ".py",
   "mimetype": "text/x-python",
   "name": "python",
   "nbconvert_exporter": "python",
   "pygments_lexer": "ipython3",
   "version": "3.12.0"
  }
 },
 "nbformat": 4,
 "nbformat_minor": 4
}
